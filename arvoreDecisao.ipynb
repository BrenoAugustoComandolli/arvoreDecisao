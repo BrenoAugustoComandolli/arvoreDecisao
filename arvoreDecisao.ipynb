def main():
    X, y = carregar_dados()
    X_train, X_test, y_train, y_test = dividir_dados(X, y)

    profundidades = [1, 2, 3, 4, 5, 6, 7, 8, 9, 10]
    resultados_gini = []
    resultados_entropy = []
    matrizes_confusao_gini = []
    matrizes_confusao_entropy = []

    # Avaliando com critério 'gini'
    for max_depth in profundidades:
        modelo_gini = treinar_arvore_decisao(X_train, y_train, criterio='gini', max_depth=max_depth)
        acuracia_gini, matriz_confusao_gini, _ = avaliar_modelo(modelo_gini, X_test, y_test)
        resultados_gini.append((max_depth, acuracia_gini))
        matrizes_confusao_gini.append(matriz_confusao_gini)
        print(f"Critério 'gini', max_depth={max_depth}, Acurácia={acuracia_gini:.2f}")

    # Avaliando com critério 'entropy'
    for max_depth in profundidades:
        modelo_entropy = treinar_arvore_decisao(X_train, y_train, criterio='entropy', max_depth=max_depth)
        acuracia_entropy, matriz_confusao_entropy, _ = avaliar_modelo(modelo_entropy, X_test, y_test)
        resultados_entropy.append((max_depth, acuracia_entropy))
        matrizes_confusao_entropy.append(matriz_confusao_entropy)
        print(f"Critério 'entropy', max_depth={max_depth}, Acurácia={acuracia_entropy:.2f}")

    # Calculando estatísticas de acurácia para 'gini' e 'entropy'
    profundidades_testadas_gini, acuracias_gini = zip(*resultados_gini)
    profundidades_testadas_entropy, acuracias_entropy = zip(*resultados_entropy)

    print("\nEstatísticas para critério 'gini':")
    calcular_estatisticas_acuracia(acuracias_gini)

    print("\nEstatísticas para critério 'entropy':")
    calcular_estatisticas_acuracia(acuracias_entropy)

    # Encontrar melhor max_depth considerando a acurácia acima da média e mediana
    def encontrar_melhor_max_depth(acuracias, matrizes_confusao, profundidades):
        media_acuracia = np.mean(acuracias)
        mediana_acuracia = np.median(acuracias)

        melhores_acuracias = [ac for ac in acuracias if ac >= media_acuracia and ac >= mediana_acuracia]
        melhores_indices = [i for i, ac in enumerate(acuracias) if ac in melhores_acuracias]

        # Critério da matriz de confusão: menor número de erros nas extremidades e mais acertos na diagonal principal
        melhor_indice = melhores_indices[0]
        menor_erros_extremidades = float('inf')

        for i in melhores_indices:
            matriz = matrizes_confusao[i]
            erros_extremidades = np.sum(matriz) - np.trace(matriz)
            if erros_extremidades < menor_erros_extremidades:
                menor_erros_extremidades = erros_extremidades
                melhor_indice = i

        return profundidades[melhor_indice], acuracias[melhor_indice], matrizes_confusao[melhor_indice]

    melhor_max_depth_gini, melhor_acuracia_gini, melhor_matriz_gini = encontrar_melhor_max_depth(acuracias_gini, matrizes_confusao_gini, profundidades_testadas_gini)
    melhor_max_depth_entropy, melhor_acuracia_entropy, melhor_matriz_entropy = encontrar_melhor_max_depth(acuracias_entropy, matrizes_confusao_entropy, profundidades_testadas_entropy)

    print(f"Melhor profundidade com critério 'gini': {melhor_max_depth_gini}")
    print(f"Melhor profundidade com critério 'entropy': {melhor_max_depth_entropy}")

    # Comparar qual critério tem a melhor acurácia geral
    melhor_criterio = 'gini' if melhor_acuracia_gini > melhor_acuracia_entropy else 'entropy'
    melhor_acuracia = melhor_acuracia_gini if melhor_criterio == 'gini' else melhor_acuracia_entropy
    melhor_max_depth = melhor_max_depth_gini if melhor_criterio == 'gini' else melhor_max_depth_entropy
    melhor_matriz_confusao = melhor_matriz_gini if melhor_criterio == 'gini' else melhor_matriz_entropy

    print(f"\nMelhor critério: {melhor_criterio}, com Acurácia={melhor_acuracia:.2f} e max_depth={melhor_max_depth}")

    # Exibir todas as matrizes de confusão para análise
    for i, matriz in enumerate(matrizes_confusao_gini):
        print(f"Matriz de Confusão - Critério 'gini', max_depth={profundidades_testadas_gini[i]}:\n{matriz}\n")

    for i, matriz in enumerate(matrizes_confusao_entropy):
        print(f"Matriz de Confusão - Critério 'entropy', max_depth={profundidades_testadas_entropy[i]}:\n{matriz}\n")

    # Visualizar a matriz de confusão e árvore do melhor modelo
    plt.figure(figsize=(5, 4))
    sns.heatmap(melhor_matriz_confusao, annot=True, fmt='d', cmap='Blues', xticklabels=load_iris().target_names, yticklabels=load_iris().target_names)
    plt.title(f"Matriz de Confusão - Melhor Modelo (max_depth={melhor_max_depth}, critério={melhor_criterio})")
    plt.xlabel("Classe Predita")
    plt.ylabel("Classe Verdadeira")
    plt.show()

    melhor_modelo = treinar_arvore_decisao(X_train, y_train, criterio=melhor_criterio, max_depth=melhor_max_depth)
    visualizar_arvore(melhor_modelo)

    # Comparação com DummyClassifier
    dummy_clf = DummyClassifier(strategy="most_frequent", random_state=42)
    dummy_clf.fit(X_train, y_train)
    y_pred_dummy = dummy_clf.predict(X_test)
    acuracia_dummy = accuracy_score(y_test, y_pred_dummy)
    print(f"Acurácia DummyClassifier: {acuracia_dummy:.2f}")

if __name__ == "__main__":
    main()
